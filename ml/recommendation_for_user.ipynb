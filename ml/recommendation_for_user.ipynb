{
 "cells": [
  {
   "cell_type": "code",
   "execution_count": 1,
   "id": "4af23301",
   "metadata": {},
   "outputs": [
    {
     "name": "stderr",
     "output_type": "stream",
     "text": [
      "D:\\ProgramForPC\\anaconda\\lib\\site-packages\\pandas\\core\\arrays\\masked.py:60: UserWarning: Pandas requires version '1.3.6' or newer of 'bottleneck' (version '1.3.5' currently installed).\n",
      "  from pandas.core import (\n"
     ]
    }
   ],
   "source": [
    "import pandas as pd\n",
    "import numpy as np\n",
    "from sklearn.model_selection import train_test_split\n",
    "from sklearn.preprocessing import LabelEncoder, MinMaxScaler\n",
    "import tensorflow as tf\n",
    "from tensorflow.keras.models import Model\n",
    "from tensorflow.keras.layers import Input, Embedding, Flatten, Dense, Concatenate, Dropout\n",
    "from sklearn.metrics import roc_auc_score, accuracy_score"
   ]
  },
  {
   "cell_type": "code",
   "execution_count": 2,
   "id": "4b7b0a92",
   "metadata": {},
   "outputs": [],
   "source": [
    "data_path = \"data/\"\n",
    "sales = pd.read_csv(data_path + 'sales_train.csv')\n",
    "items = pd.read_csv(data_path + 'items.csv')\n",
    "item_categories = pd.read_csv(data_path + 'item_categories.csv')\n",
    "shops = pd.read_csv(data_path + 'shops.csv')\n",
    "test = pd.read_csv(data_path + 'test.csv')"
   ]
  },
  {
   "cell_type": "code",
   "execution_count": 3,
   "id": "79f87329",
   "metadata": {},
   "outputs": [],
   "source": [
    "#предварительная обработка данных\n",
    "def preprocess_data_for_users(sales, items):\n",
    "    # Add a dummy user_id (for demonstration)\n",
    "    sales['user_id'] = sales['shop_id'] % 100  # Simulated user ID for example\n",
    "\n",
    "    # Aggregate user purchase history\n",
    "    user_history = sales.groupby(['user_id', 'item_id']).agg({\n",
    "        'item_cnt_day': 'sum'\n",
    "    }).reset_index()\n",
    "    user_history.rename(columns={'item_cnt_day': 'total_purchases'}, inplace=True)\n",
    "\n",
    "    # Normalize purchases\n",
    "    user_history['total_purchases'] = MinMaxScaler().fit_transform(\n",
    "        user_history[['total_purchases']]\n",
    "    )\n",
    "\n",
    "    # Merge with item details\n",
    "    user_history = user_history.merge(items, on='item_id', how='left')\n",
    "    return user_history\n",
    "\n",
    "\n",
    "user_history = preprocess_data_for_users(sales, items)"
   ]
  },
  {
   "cell_type": "code",
   "execution_count": 4,
   "id": "10a007f2",
   "metadata": {},
   "outputs": [],
   "source": [
    "#создание матрицы взаимодействия пользователя с товаром\n",
    "def create_user_item_matrix(user_history):\n",
    "    user_item_matrix = user_history.pivot(index='user_id', columns='item_id', values='total_purchases').fillna(0)\n",
    "    return user_item_matrix\n",
    "\n",
    "user_item_matrix = create_user_item_matrix(user_history)\n"
   ]
  },
  {
   "cell_type": "code",
   "execution_count": 5,
   "id": "a31d1ff5",
   "metadata": {},
   "outputs": [],
   "source": [
    "#нейронная сеть для рекомендаций\n",
    "def build_recommendation_model(num_users, num_items):\n",
    "    user_input = Input(shape=(1,), name='user_input')\n",
    "    item_input = Input(shape=(1,), name='item_input')\n",
    "\n",
    "    user_embedding = Embedding(input_dim=num_users, output_dim=50, name='user_embedding')(user_input)\n",
    "    item_embedding = Embedding(input_dim=num_items, output_dim=50, name='item_embedding')(item_input)\n",
    "\n",
    "    user_flatten = Flatten()(user_embedding)\n",
    "    item_flatten = Flatten()(item_embedding)\n",
    "\n",
    "    concat = Concatenate()([user_flatten, item_flatten])\n",
    "\n",
    "    dense1 = Dense(128, activation='relu')(concat)\n",
    "    dropout1 = Dropout(0.2)(dense1)\n",
    "    dense2 = Dense(64, activation='relu')(dropout1)\n",
    "    dropout2 = Dropout(0.2)(dense2)\n",
    "    output = Dense(1, activation='sigmoid')(dropout2)\n",
    "\n",
    "    model = Model(inputs=[user_input, item_input], outputs=output)\n",
    "    model.compile(optimizer='adam', loss='binary_crossentropy', metrics=['accuracy'])\n",
    "\n",
    "    return model"
   ]
  },
  {
   "cell_type": "code",
   "execution_count": 6,
   "id": "344fc769",
   "metadata": {},
   "outputs": [],
   "source": [
    "#подготовка данных для обучения\n",
    "user_ids = user_item_matrix.index.values\n",
    "item_ids = user_item_matrix.columns.values\n",
    "\n",
    "user_idx = {user: idx for idx, user in enumerate(user_ids)}\n",
    "item_idx = {item: idx for idx, item in enumerate(item_ids)}\n",
    "\n",
    "user_item_pairs = user_item_matrix.stack().reset_index()\n",
    "user_item_pairs.columns = ['user_id', 'item_id', 'interaction']\n",
    "user_item_pairs['user_id'] = user_item_pairs['user_id'].map(user_idx)\n",
    "user_item_pairs['item_id'] = user_item_pairs['item_id'].map(item_idx)\n",
    "\n",
    "X_users = user_item_pairs['user_id'].values\n",
    "X_items = user_item_pairs['item_id'].values\n",
    "y_interactions = user_item_pairs['interaction'].values"
   ]
  },
  {
   "cell_type": "code",
   "execution_count": 7,
   "id": "1bab9369",
   "metadata": {},
   "outputs": [],
   "source": [
    "#переводим X_users и X_items в 2d\n",
    "X_combined = np.column_stack((X_users, X_items))\n",
    "\n",
    "X_train, X_valid, y_train, y_valid = train_test_split(\n",
    "    X_combined, y_interactions, test_size=0.2, random_state=42\n",
    ")"
   ]
  },
  {
   "cell_type": "code",
   "execution_count": 8,
   "id": "e73e412f",
   "metadata": {},
   "outputs": [],
   "source": [
    "X_train_users, X_train_items = X_train[:, 0], X_train[:, 1]\n",
    "X_valid_users, X_valid_items = X_valid[:, 0], X_valid[:, 1]"
   ]
  },
  {
   "cell_type": "code",
   "execution_count": 9,
   "id": "2ba0a6c8",
   "metadata": {},
   "outputs": [
    {
     "name": "stdout",
     "output_type": "stream",
     "text": [
      "Epoch 1/10\n",
      "\u001b[1m4089/4089\u001b[0m \u001b[32m━━━━━━━━━━━━━━━━━━━━\u001b[0m\u001b[37m\u001b[0m \u001b[1m34s\u001b[0m 8ms/step - accuracy: 0.6751 - loss: 0.0243 - val_accuracy: 0.6743 - val_loss: 0.0027\n",
      "Epoch 2/10\n",
      "\u001b[1m4089/4089\u001b[0m \u001b[32m━━━━━━━━━━━━━━━━━━━━\u001b[0m\u001b[37m\u001b[0m \u001b[1m30s\u001b[0m 7ms/step - accuracy: 0.6757 - loss: 0.0028 - val_accuracy: 0.6743 - val_loss: 0.0027\n",
      "Epoch 3/10\n",
      "\u001b[1m4089/4089\u001b[0m \u001b[32m━━━━━━━━━━━━━━━━━━━━\u001b[0m\u001b[37m\u001b[0m \u001b[1m34s\u001b[0m 8ms/step - accuracy: 0.6767 - loss: 0.0028 - val_accuracy: 0.6743 - val_loss: 0.0027\n",
      "Epoch 4/10\n",
      "\u001b[1m4089/4089\u001b[0m \u001b[32m━━━━━━━━━━━━━━━━━━━━\u001b[0m\u001b[37m\u001b[0m \u001b[1m29s\u001b[0m 7ms/step - accuracy: 0.6761 - loss: 0.0028 - val_accuracy: 0.6743 - val_loss: 0.0027\n",
      "Epoch 5/10\n",
      "\u001b[1m4089/4089\u001b[0m \u001b[32m━━━━━━━━━━━━━━━━━━━━\u001b[0m\u001b[37m\u001b[0m \u001b[1m31s\u001b[0m 8ms/step - accuracy: 0.6766 - loss: 0.0027 - val_accuracy: 0.6743 - val_loss: 0.0027\n",
      "Epoch 6/10\n",
      "\u001b[1m4089/4089\u001b[0m \u001b[32m━━━━━━━━━━━━━━━━━━━━\u001b[0m\u001b[37m\u001b[0m \u001b[1m31s\u001b[0m 7ms/step - accuracy: 0.6764 - loss: 0.0027 - val_accuracy: 0.6743 - val_loss: 0.0027\n",
      "Epoch 7/10\n",
      "\u001b[1m4089/4089\u001b[0m \u001b[32m━━━━━━━━━━━━━━━━━━━━\u001b[0m\u001b[37m\u001b[0m \u001b[1m31s\u001b[0m 7ms/step - accuracy: 0.6764 - loss: 0.0027 - val_accuracy: 0.6743 - val_loss: 0.0027\n",
      "Epoch 8/10\n",
      "\u001b[1m4089/4089\u001b[0m \u001b[32m━━━━━━━━━━━━━━━━━━━━\u001b[0m\u001b[37m\u001b[0m \u001b[1m28s\u001b[0m 7ms/step - accuracy: 0.6759 - loss: 0.0027 - val_accuracy: 0.6743 - val_loss: 0.0027\n",
      "Epoch 9/10\n",
      "\u001b[1m4089/4089\u001b[0m \u001b[32m━━━━━━━━━━━━━━━━━━━━\u001b[0m\u001b[37m\u001b[0m \u001b[1m29s\u001b[0m 7ms/step - accuracy: 0.6758 - loss: 0.0027 - val_accuracy: 0.6743 - val_loss: 0.0027\n",
      "Epoch 10/10\n",
      "\u001b[1m4089/4089\u001b[0m \u001b[32m━━━━━━━━━━━━━━━━━━━━\u001b[0m\u001b[37m\u001b[0m \u001b[1m28s\u001b[0m 7ms/step - accuracy: 0.6768 - loss: 0.0027 - val_accuracy: 0.6743 - val_loss: 0.0027\n"
     ]
    }
   ],
   "source": [
    "# build and train rec. model\n",
    "num_users = len(user_ids)\n",
    "num_items = len(item_ids)\n",
    "model = build_recommendation_model(num_users, num_items)\n",
    "\n",
    "history = model.fit(\n",
    "    x=[X_train_users, X_train_items],\n",
    "    y=y_train,\n",
    "    validation_data=([X_valid_users, X_valid_items], y_valid),\n",
    "    epochs=10,\n",
    "    batch_size=256,\n",
    "    verbose=1\n",
    ")\n"
   ]
  },
  {
   "cell_type": "code",
   "execution_count": 12,
   "id": "6f373441",
   "metadata": {},
   "outputs": [],
   "source": [
    "#генерируем рекомендацию для пользователя\n",
    "def recommend_for_user(user_id, model, item_ids, user_idx, item_idx, num_recommendations=5):\n",
    "    user_vector = np.array([user_idx[user_id]] * len(item_ids))\n",
    "    item_vector = np.array([item_idx[item] for item in item_ids])\n",
    "\n",
    "    predictions = model.predict([user_vector, item_vector]).flatten()\n",
    "    recommendations = pd.DataFrame({\n",
    "        'item_id': item_ids,\n",
    "        'predicted_score': predictions\n",
    "    }).sort_values(by='predicted_score', ascending=False)\n",
    "\n",
    "    return recommendations.head(num_recommendations)"
   ]
  },
  {
   "cell_type": "code",
   "execution_count": 13,
   "id": "c700f80c",
   "metadata": {},
   "outputs": [
    {
     "name": "stdout",
     "output_type": "stream",
     "text": [
      "\u001b[1m682/682\u001b[0m \u001b[32m━━━━━━━━━━━━━━━━━━━━\u001b[0m\u001b[37m\u001b[0m \u001b[1m1s\u001b[0m 1ms/step  \n",
      "       item_id  predicted_score\n",
      "20602    20949         0.049245\n",
      "3654      3732         0.006954\n",
      "2749      2808         0.006743\n",
      "17418    17717         0.006284\n",
      "3653      3731         0.005556\n"
     ]
    }
   ],
   "source": [
    "# пример: рекомендация для польщователя 10\n",
    "user_id = 10\n",
    "recommendations = recommend_for_user(user_id, model, item_ids, user_idx, item_idx)\n",
    "print(recommendations)\n"
   ]
  },
  {
   "cell_type": "code",
   "execution_count": 14,
   "id": "8e0f5f63",
   "metadata": {},
   "outputs": [
    {
     "name": "stdout",
     "output_type": "stream",
     "text": [
      "\u001b[1m8178/8178\u001b[0m \u001b[32m━━━━━━━━━━━━━━━━━━━━\u001b[0m\u001b[37m\u001b[0m \u001b[1m7s\u001b[0m 883us/step\n"
     ]
    }
   ],
   "source": [
    "from sklearn.metrics import roc_auc_score, accuracy_score\n",
    "\n",
    "# Предсказания на валидационном наборе\n",
    "y_valid_pred = model.predict([X_valid_users, X_valid_items]).flatten()"
   ]
  },
  {
   "cell_type": "code",
   "execution_count": 15,
   "id": "5cd23b74",
   "metadata": {},
   "outputs": [
    {
     "name": "stdout",
     "output_type": "stream",
     "text": [
      "ROC-AUC: 0.9382\n"
     ]
    }
   ],
   "source": [
    "# Бинаризация y_valid, если значения не в {0, 1}\n",
    "y_valid_binary = (y_valid > 0).astype(int)\n",
    "\n",
    "# Рассчёт ROC-AUC\n",
    "roc_auc = roc_auc_score(y_valid_binary, y_valid_pred)\n",
    "print(f\"ROC-AUC: {roc_auc:.4f}\")"
   ]
  },
  {
   "cell_type": "code",
   "execution_count": 16,
   "id": "f7e76dcf",
   "metadata": {},
   "outputs": [
    {
     "name": "stdout",
     "output_type": "stream",
     "text": [
      "       item_id                                          item_name  \\\n",
      "20602    20949  Фирменный пакет майка 1С Интерес белый (34*42)...   \n",
      "3654      3732         Grand Theft Auto V [PS3, русские субтитры]   \n",
      "2749      2808             Diablo III [PC, Jewel, русская версия]   \n",
      "17418    17717               Прием денежных средств для 1С-Онлайн   \n",
      "3653      3731          Grand Theft Auto V [PC, русские субтитры]   \n",
      "\n",
      "       predicted_score  \n",
      "20602         0.049245  \n",
      "3654          0.006954  \n",
      "2749          0.006743  \n",
      "17418         0.006284  \n",
      "3653          0.005556  \n"
     ]
    }
   ],
   "source": [
    "item_mapping = dict(zip(items['item_id'], items['item_name']))\n",
    "\n",
    "# Функция для получения названия товара\n",
    "def get_item_name(item_id, item_mapping):\n",
    "    return item_mapping.get(item_id, \"Unknown Item\")\n",
    "\n",
    "# Пример: Выводим названия товаров из рекомендаций\n",
    "recommendations['item_name'] = recommendations['item_id'].apply(lambda x: get_item_name(x, item_mapping))\n",
    "print(recommendations[['item_id', 'item_name', 'predicted_score']])"
   ]
  },
  {
   "cell_type": "code",
   "execution_count": 17,
   "id": "6968e1d0",
   "metadata": {},
   "outputs": [
    {
     "name": "stderr",
     "output_type": "stream",
     "text": [
      "WARNING:absl:You are saving your model as an HDF5 file via `model.save()` or `keras.saving.save_model(model)`. This file format is considered legacy. We recommend using instead the native Keras format, e.g. `model.save('my_model.keras')` or `keras.saving.save_model(model, 'my_model.keras')`. \n"
     ]
    }
   ],
   "source": [
    "model.save('model_rec_user.h5')"
   ]
  },
  {
   "cell_type": "code",
   "execution_count": null,
   "id": "f3ef89bf-2b8b-4372-ad9c-ecdef051418e",
   "metadata": {},
   "outputs": [],
   "source": []
  }
 ],
 "metadata": {
  "kernelspec": {
   "display_name": "Python 3 (ipykernel)",
   "language": "python",
   "name": "python3"
  },
  "language_info": {
   "codemirror_mode": {
    "name": "ipython",
    "version": 3
   },
   "file_extension": ".py",
   "mimetype": "text/x-python",
   "name": "python",
   "nbconvert_exporter": "python",
   "pygments_lexer": "ipython3",
   "version": "3.10.9"
  }
 },
 "nbformat": 4,
 "nbformat_minor": 5
}
